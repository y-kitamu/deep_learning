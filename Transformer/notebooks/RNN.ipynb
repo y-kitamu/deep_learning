{
 "cells": [
  {
   "cell_type": "code",
   "execution_count": 1,
   "metadata": {},
   "outputs": [],
   "source": [
    "import tensorflow_datasets as tfds\n",
    "import tensorflow as tf\n",
    "\n",
    "import matplotlib.pyplot as plt\n",
    "\n",
    "def plot_graphs(history, metric):\n",
    "    plt.plot(history.history(metric))\n",
    "    plt.plot(history.history('val_' + metric), '')\n",
    "    plt.xlabel(\"Epochs\")\n",
    "    plt.ylabel(metric)\n",
    "    plt.legend([metric, 'val_' + metric])\n",
    "    plt.show()"
   ]
  },
  {
   "cell_type": "code",
   "execution_count": 3,
   "metadata": {},
   "outputs": [
    {
     "name": "stderr",
     "output_type": "stream",
     "text": [
      "WARNING:absl:TFDS datasets with text encoding are deprecated and will be removed in a future version. Instead, you should use the plain text version and tokenize the text using `tensorflow_text` (See: https://www.tensorflow.org/tutorials/tensorflow_text/intro#tfdata_example)\n"
     ]
    }
   ],
   "source": [
    "dataset, info = tfds.load('imdb_reviews/subwords8k', with_info=True,\n",
    "                         as_supervised=True)\n",
    "train_examples, test_examples = dataset['train'], dataset['test']"
   ]
  },
  {
   "cell_type": "code",
   "execution_count": 4,
   "metadata": {},
   "outputs": [
    {
     "name": "stdout",
     "output_type": "stream",
     "text": [
      "Vocabulary size : 8185\n"
     ]
    }
   ],
   "source": [
    "encoder = info.features['text'].encoder\n",
    "print('Vocabulary size : {}'.format(encoder.vocab_size))"
   ]
  },
  {
   "cell_type": "code",
   "execution_count": 18,
   "metadata": {},
   "outputs": [
    {
     "name": "stdout",
     "output_type": "stream",
     "text": [
      "Encoded string is [3618, 222, 943, 2327, 2934]\n",
      "The original string : hello tensorflow\n"
     ]
    }
   ],
   "source": [
    "sample_string = 'hello tensorflow'\n",
    "encoded_string = encoder.encode(sample_string)\n",
    "print('Encoded string is {}'.format(encoded_string))\n",
    "\n",
    "original_string = encoder.decode(encoded_string)\n",
    "print('The original string : {}'.format(original_string))\n",
    "assert original_string == sample_string"
   ]
  },
  {
   "cell_type": "code",
   "execution_count": 19,
   "metadata": {},
   "outputs": [
    {
     "name": "stdout",
     "output_type": "stream",
     "text": [
      "3618 ----> hell\n",
      "222 ----> o \n",
      "943 ----> ten\n",
      "2327 ----> sor\n",
      "2934 ----> flow\n"
     ]
    }
   ],
   "source": [
    "for index in encoded_string:\n",
    "    print('{} ----> {}'.format(index, encoder.decode([index])))"
   ]
  },
  {
   "cell_type": "code",
   "execution_count": 22,
   "metadata": {},
   "outputs": [],
   "source": [
    "BUFFER_SIZE = 10000\n",
    "BATCH_SIZE = 64\n",
    "\n",
    "train_dataset = (train_examples.shuffle(BUFFER_SIZE).padded_batch(\n",
    "    BATCH_SIZE, padded_shapes=([None], [])))\n",
    "test_dataset = (test_examples.padded_batch(BATCH_SIZE, padded_shapes=([None], [])))"
   ]
  },
  {
   "cell_type": "code",
   "execution_count": 23,
   "metadata": {},
   "outputs": [],
   "source": [
    "model = tf.keras.Sequential([\n",
    "    tf.keras.layers.Embedding(encoder.vocab_size, 64),\n",
    "    tf.keras.layers.Bidirectional(tf.keras.layers.LSTM(64)),\n",
    "    tf.keras.layers.Dense(64, activation='relu'),\n",
    "    tf.keras.layers.Dense(1)\n",
    "])\n",
    "model.compile(loss=tf.keras.losses.BinaryCrossentropy(from_logits=True),\n",
    "              optimizer=tf.keras.optimizers.Adam(1e-4),\n",
    "              metrics=['accuracy'])"
   ]
  },
  {
   "cell_type": "code",
   "execution_count": 24,
   "metadata": {},
   "outputs": [
    {
     "name": "stdout",
     "output_type": "stream",
     "text": [
      "Epoch 1/10\n",
      "391/391 [==============================] - 43s 109ms/step - loss: 0.6561 - accuracy: 0.5491 - val_loss: 0.5068 - val_accuracy: 0.7750\n",
      "Epoch 2/10\n",
      "391/391 [==============================] - 42s 107ms/step - loss: 0.3566 - accuracy: 0.8497 - val_loss: 0.3542 - val_accuracy: 0.8406\n",
      "Epoch 3/10\n",
      "391/391 [==============================] - 42s 108ms/step - loss: 0.2532 - accuracy: 0.9015 - val_loss: 0.3371 - val_accuracy: 0.8620\n",
      "Epoch 4/10\n",
      "391/391 [==============================] - 42s 108ms/step - loss: 0.2088 - accuracy: 0.9226 - val_loss: 0.3481 - val_accuracy: 0.8677\n",
      "Epoch 5/10\n",
      "391/391 [==============================] - 42s 107ms/step - loss: 0.1818 - accuracy: 0.9356 - val_loss: 0.3482 - val_accuracy: 0.8672\n",
      "Epoch 6/10\n",
      "391/391 [==============================] - 42s 107ms/step - loss: 0.1617 - accuracy: 0.9430 - val_loss: 0.4058 - val_accuracy: 0.8661\n",
      "Epoch 7/10\n",
      "391/391 [==============================] - 42s 107ms/step - loss: 0.1468 - accuracy: 0.9496 - val_loss: 0.4323 - val_accuracy: 0.8578\n",
      "Epoch 8/10\n",
      "391/391 [==============================] - 42s 107ms/step - loss: 0.1315 - accuracy: 0.9556 - val_loss: 0.4198 - val_accuracy: 0.8620\n",
      "Epoch 9/10\n",
      "391/391 [==============================] - 42s 107ms/step - loss: 0.1206 - accuracy: 0.9601 - val_loss: 0.4143 - val_accuracy: 0.8510\n",
      "Epoch 10/10\n",
      "391/391 [==============================] - 42s 108ms/step - loss: 0.2016 - accuracy: 0.9372 - val_loss: 0.4358 - val_accuracy: 0.7844\n"
     ]
    }
   ],
   "source": [
    "history = model.fit(train_dataset, epochs=10,\n",
    "                    validation_data=test_dataset, \n",
    "                    validation_steps=30)"
   ]
  },
  {
   "cell_type": "code",
   "execution_count": 25,
   "metadata": {},
   "outputs": [
    {
     "name": "stdout",
     "output_type": "stream",
     "text": [
      "391/391 [==============================] - 17s 44ms/step - loss: 0.4290 - accuracy: 0.7852\n",
      "Test Loss: 0.42899417877197266\n",
      "Test Accuracy: 0.7851600050926208\n"
     ]
    }
   ],
   "source": [
    "test_loss, test_acc = model.evaluate(test_dataset)\n",
    "\n",
    "print('Test Loss: {}'.format(test_loss))\n",
    "print('Test Accuracy: {}'.format(test_acc))"
   ]
  },
  {
   "cell_type": "code",
   "execution_count": 13,
   "metadata": {},
   "outputs": [],
   "source": [
    "import tensorflow as tf\n",
    "import numpy as np\n",
    "\n",
    "a, b, c = tf.unstack(tf.shape(tf.Variable(np.zeros((10, 10, 10)))))"
   ]
  },
  {
   "cell_type": "code",
   "execution_count": 15,
   "metadata": {},
   "outputs": [
    {
     "data": {
      "text/plain": [
       "<tf.Tensor: shape=(), dtype=int32, numpy=10>"
      ]
     },
     "execution_count": 15,
     "metadata": {},
     "output_type": "execute_result"
    }
   ],
   "source": [
    "a"
   ]
  },
  {
   "cell_type": "code",
   "execution_count": null,
   "metadata": {},
   "outputs": [],
   "source": []
  }
 ],
 "metadata": {
  "kernelspec": {
   "display_name": "Python 3",
   "language": "python",
   "name": "python3"
  },
  "language_info": {
   "codemirror_mode": {
    "name": "ipython",
    "version": 3
   },
   "file_extension": ".py",
   "mimetype": "text/x-python",
   "name": "python",
   "nbconvert_exporter": "python",
   "pygments_lexer": "ipython3",
   "version": "3.6.9"
  }
 },
 "nbformat": 4,
 "nbformat_minor": 4
}
