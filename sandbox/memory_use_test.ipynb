{
 "cells": [
  {
   "cell_type": "code",
   "execution_count": 1,
   "metadata": {},
   "outputs": [],
   "source": [
    "import numpy as np\n",
    "import tensorflow as tf\n",
    "from tensorflow.keras.applications import EfficientNetB0\n",
    "\n",
    "devices = [tf.config.list_physical_devices('GPU')[0]]\n",
    "tf.config.set_visible_devices(devices, 'GPU')\n",
    "for device in devices:\n",
    "    tf.config.experimental.set_memory_growth(device, True)"
   ]
  },
  {
   "cell_type": "markdown",
   "metadata": {},
   "source": [
    "## gpu memory used\n",
    "- 256 x 256 = 1125\n",
    "- 512 x 512 = 1893\n",
    "- 1024 x 1024 = 4965\n",
    "- 1024 x 2048 = 7817"
   ]
  },
  {
   "cell_type": "code",
   "execution_count": 2,
   "metadata": {},
   "outputs": [],
   "source": [
    "class custom_effnet(tf.keras.Model):\n",
    "    def __init__(self, n_classes=4, input_shape=(256, 256, 3)):\n",
    "        super().__init__()\n",
    "        self.shape = input_shape\n",
    "        self.base_model = EfficientNetB0(include_top=False, weights=None, input_shape=input_shape)\n",
    "        self.dense = tf.keras.layers.Dense(n_classes)\n",
    "        \n",
    "    def call(self, x):\n",
    "        x = self.base_model(x)\n",
    "        x = tf.keras.layers.GlobalAveragePooling2D()(x)\n",
    "        x = self.dense(x)\n",
    "        return x\n",
    "\n",
    "def train(model, inputs, outputs, optimizer, loss_fn):\n",
    "    with tf.GradientTape() as tape:\n",
    "        current_loss = loss_fn(model(inputs), outputs)\n",
    "    grads = tape.gradient(current_loss, model.trainable_variables)\n",
    "    optimizer.apply_gradients(zip(grads, model.trainable_variables))\n",
    "\n",
    "def train_loop(model, loss_fn=tf.keras.losses.CategoricalCrossentropy(), input_shape=(256, 256, 3)):\n",
    "    inputs = np.zeros(input_shape)[None, ...]\n",
    "    outputs = np.zeros((1, 4))\n",
    "    outputs[0, 0] = 1\n",
    "    optimizer = tf.keras.optimizers.Adam()\n",
    "    for i in range(3):\n",
    "        train(model, inputs, outputs, optimizer, loss_fn)"
   ]
  },
  {
   "cell_type": "code",
   "execution_count": 3,
   "metadata": {},
   "outputs": [],
   "source": [
    "n_classes = 4\n",
    "input_shape = (1024, 2048, 3)\n",
    "model = custom_effnet(n_classes, input_shape)\n",
    "model.build(input_shape=(None, input_shape[0], input_shape[1], input_shape[2]))\n",
    "\n",
    "train_loop(model, input_shape=input_shape)"
   ]
  },
  {
   "cell_type": "code",
   "execution_count": null,
   "metadata": {},
   "outputs": [],
   "source": []
  }
 ],
 "metadata": {
  "kernelspec": {
   "display_name": "Python 3",
   "language": "python",
   "name": "python3"
  },
  "language_info": {
   "codemirror_mode": {
    "name": "ipython",
    "version": 3
   },
   "file_extension": ".py",
   "mimetype": "text/x-python",
   "name": "python",
   "nbconvert_exporter": "python",
   "pygments_lexer": "ipython3",
   "version": "3.6.9"
  }
 },
 "nbformat": 4,
 "nbformat_minor": 4
}
