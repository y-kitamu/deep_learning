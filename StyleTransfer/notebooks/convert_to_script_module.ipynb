{
 "cells": [
  {
   "cell_type": "code",
   "execution_count": null,
   "metadata": {},
   "outputs": [],
   "source": [
    "import torch\n",
    "import torch.nn as nn\n",
    "import torchvision.models as models"
   ]
  },
  {
   "cell_type": "code",
   "execution_count": null,
   "metadata": {},
   "outputs": [],
   "source": [
    "resnet18 = models.resnet18(pretrained=True)\n",
    "\n",
    "res_partial = nn.Sequential(\n",
    "    resnet18.conv1,\n",
    "    resnet18.bn1,\n",
    "    resnet18.relu,\n",
    "    resnet18.maxpool,\n",
    "    resnet18.layer1,\n",
    "    resnet18.layer2,\n",
    "    resnet18.layer3,\n",
    "    resnet18.layer4,\n",
    ")\n",
    "\n",
    "example_input = torch.rand(1, 3, 224, 224)\n",
    "script_module = torch.jit.trace(res_partial, example_input)\n",
    "script_module.save(\"../weights/script_resnet_partial.pt\")"
   ]
  },
  {
   "cell_type": "code",
   "execution_count": null,
   "metadata": {},
   "outputs": [],
   "source": [
    "vgg = models.vgg19(pretrained=True)\n",
    "\n",
    "vgg_partial = vgg.features[:21]\n",
    "\n",
    "example_input = torch.rand(1, 3, 224, 224)\n",
    "script_module = torch.jit.trace(vgg_partial, example_input)\n",
    "script_module.save(\"../weights/script_vgg_partial.pt\")"
   ]
  },
  {
   "cell_type": "code",
   "execution_count": null,
   "metadata": {},
   "outputs": [],
   "source": [
    "model = torch.hub.load('pytorch/vision:v0.6.0', 'vgg19', pretrained=True)\n",
    "vgg.features[:21]"
   ]
  }
 ],
 "metadata": {
  "language_info": {
   "name": "python",
   "pygments_lexer": "ipython3"
  }
 },
 "nbformat": 4,
 "nbformat_minor": 4
}
