{
 "cells": [
  {
   "cell_type": "code",
   "execution_count": null,
   "metadata": {},
   "outputs": [],
   "source": [
    "!pip install chromedriver-binary==84.0.4147.30.0"
   ]
  },
  {
   "cell_type": "code",
   "execution_count": null,
   "metadata": {},
   "outputs": [],
   "source": [
    "!pip install selenium bs4 tqdm"
   ]
  },
  {
   "cell_type": "code",
   "execution_count": null,
   "metadata": {},
   "outputs": [],
   "source": [
    "import os\n",
    "import time\n",
    "from pathlib import Path\n",
    "\n",
    "import urllib\n",
    "from urllib import request\n",
    "import chromedriver_binary\n",
    "from selenium import webdriver\n",
    "from bs4 import BeautifulSoup\n",
    "from tqdm import tqdm"
   ]
  },
  {
   "cell_type": "code",
   "execution_count": null,
   "metadata": {},
   "outputs": [],
   "source": [
    "def get_driver():\n",
    "    options = webdriver.ChromeOptions()\n",
    "    options.add_argument(\"--no-sandbox\")\n",
    "    options.add_argument(\"--headless\")\n",
    "    options.add_argument(\"--disable-gpu\")\n",
    "    options.add_argument('--disable-dev-shm-usage')\n",
    "    driver = webdriver.Chrome(options=options)\n",
    "    return driver\n",
    "\n",
    "\n",
    "def scrape_art_wiki(driver):\n",
    "    root_url = \"https://www.wikiart.org\"\n",
    "    driver.get(root_url + \"/en/paintings-by-style/\")\n",
    "    time.sleep(1.0)\n",
    "    print(driver.title)\n",
    "    bs = BeautifulSoup(driver.page_source)\n",
    "    dict_list = bs.find(\"ul\", class_=\"dictionaries-list\")\n",
    "    link_list = [li.a.get(\"href\") for li in dict_list.find_all(\"li\", class_=\"dottedItem\")]\n",
    "\n",
    "    style_image_dict = {}\n",
    "    for link in link_list:\n",
    "        style = link.split(\"/\")[-1]\n",
    "        style_image_dict[style] = scrape_art_wiki_page(driver, root_url + link)\n",
    "    return style_image_dict\n",
    "\n",
    "\n",
    "def scrape_art_wiki_page(driver, url):\n",
    "    driver.get(url)\n",
    "    while True:\n",
    "        time.sleep(0.2)\n",
    "        try:\n",
    "            more_button = driver.find_element_by_class_name(\"masonry-load-more-button\")\n",
    "            more_button.click()\n",
    "        except:\n",
    "            break\n",
    "\n",
    "    html = driver.page_source\n",
    "    bs = BeautifulSoup(html, \"html.parser\")\n",
    "    img_list = bs.find(\"ul\", class_=\"wiki-masonry-container\")\n",
    "    img_urls = [img.get(\"src\") for img in img_list.select(\"img\")]\n",
    "    img_urls = [img.split(\"!\")[0] for img in img_urls if img.endswith(\"jpg\")]\n",
    "    print(\"Found {} images in {}\".format(len(img_urls), url))\n",
    "    return img_urls"
   ]
  },
  {
   "cell_type": "code",
   "execution_count": null,
   "metadata": {},
   "outputs": [],
   "source": [
    "driver = get_driver()\n",
    "style_image_dict = scrape_art_wiki(driver)"
   ]
  },
  {
   "cell_type": "code",
   "execution_count": null,
   "metadata": {},
   "outputs": [],
   "source": [
    "def downloads(style_image_dict, save_root_dir):\n",
    "    for key, paths in style_image_dict.items():\n",
    "        style = key.split(\"?\")[0]\n",
    "        save_dir = os.path.join(save_root_dir, style)\n",
    "        os.makedirs(save_dir, exist_ok=True)\n",
    "        for path in tqdm(paths):\n",
    "            download_impl(path, save_dir)\n",
    "        print(\"style : {}\".format(style))\n",
    "            \n",
    "def download_impl(url, save_dir):\n",
    "    dst_path = os.path.join(save_dir, os.path.basename(url))\n",
    "    if os.path.exists(dst_path):\n",
    "        return\n",
    "    try:\n",
    "        with urllib.request.urlopen(url) as web_file:\n",
    "            data = web_file.read()\n",
    "            with open(dst_path, mode='wb') as local_file:\n",
    "                local_file.write(data)\n",
    "    except urllib.error.URLError as e:\n",
    "        print(e)\n",
    "    except:\n",
    "        if os.path.exists(dst_path):\n",
    "            os.remove(dst_path)"
   ]
  },
  {
   "cell_type": "code",
   "execution_count": null,
   "metadata": {},
   "outputs": [],
   "source": [
    "save_root_dir = Path.home() / \"dataset/ArtWiki\"\n",
    "downloads(style_image_dict, str(save_root_dir))"
   ]
  },
  {
   "cell_type": "code",
   "execution_count": null,
   "metadata": {},
   "outputs": [],
   "source": [
    "len(style_image_dict)"
   ]
  }
 ],
 "metadata": {
  "language_info": {
   "name": "python",
   "pygments_lexer": "ipython3"
  }
 },
 "nbformat": 4,
 "nbformat_minor": 4
}
