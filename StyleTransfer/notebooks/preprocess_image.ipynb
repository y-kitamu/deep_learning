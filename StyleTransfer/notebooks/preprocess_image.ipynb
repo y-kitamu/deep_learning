{
 "cells": [
  {
   "cell_type": "code",
   "execution_count": null,
   "metadata": {},
   "outputs": [],
   "source": [
    "import os\n",
    "from pathlib import Path\n",
    "\n",
    "import matplotlib.pyplot as plt\n",
    "from PIL import Image\n",
    "from tqdm import tqdm\n",
    "import cv2\n",
    "import numpy as np"
   ]
  },
  {
   "cell_type": "code",
   "execution_count": null,
   "metadata": {},
   "outputs": [],
   "source": [
    "def resize_image(filepath, output_dir, size=512):\n",
    "    img = Image.open(str(filepath))\n",
    "    if img.width > img.height:\n",
    "        width = int(img.width * 512 / img.height)\n",
    "        height = 512\n",
    "    else:\n",
    "        width = 512\n",
    "        height = int(img.height * 512 / img.width)\n",
    "    resized = img.resize((width, height), Image.LANCZOS)\n",
    "    \n",
    "    shape = np.array(img).shape\n",
    "    if len(shape) == 2 or shape[2] == 1:\n",
    "        output_dir = output_dir.parent / output_dir.name + \"Gray\"\n",
    "    else:\n",
    "        output_dir = output_dir.parent / output_dir.name + \"Color\"\n",
    "    output_dir.mkdir(exist_ok=True, parents=True)\n",
    "    output_path = os.path.join(output_dir, os.path.basename(filepath))\n",
    "    resized.save(output_path)"
   ]
  },
  {
   "cell_type": "code",
   "execution_count": null,
   "metadata": {},
   "outputs": [],
   "source": [
    "data_root = Path.home() / \"dataset/COCO/train2014\"\n",
    "for path in tqdm(list(data_root.glob(\"Original/*.jpg\"))):\n",
    "    resize_image(path, data_root / \"Resized512\")"
   ]
  },
  {
   "cell_type": "code",
   "execution_count": null,
   "metadata": {},
   "outputs": [],
   "source": [
    "data_root = Path.home() / \"dataset/ArtWiki\"\n",
    "for path in tqdm(list(data_root.glob(\"*/*.jpg\"))):\n",
    "    \n",
    "    resize_image(path, data_root / \"Resized512\")"
   ]
  },
  {
   "cell_type": "code",
   "execution_count": null,
   "metadata": {},
   "outputs": [],
   "source": [
    "data_root = Path.home() / \"dataset/COCO/test2014\"\n",
    "for path in tqdm(list(data_root.glob(\"Original/*.jpg\"))):\n",
    "    resize_image(path, data_root / \"Resized512\")"
   ]
  },
  {
   "cell_type": "code",
   "execution_count": null,
   "metadata": {},
   "outputs": [],
   "source": []
  },
  {
   "cell_type": "code",
   "execution_count": null,
   "metadata": {},
   "outputs": [],
   "source": [
    "data_root = Path.home() / \"dataset/COCO/train2014\"\n",
    "for path in tqdm(list(data_root.glob(\"Resized512Color/*.jpg\"))):\n",
    "    shape = np.array(Image.open(str(path))).shape\n",
    "    if len(shape) == 2 or shape[2] == 1:\n",
    "        os.rename(str(path), str(path).replace(\"Resized512Color\", \"Resized512Gray\"))"
   ]
  },
  {
   "cell_type": "code",
   "execution_count": null,
   "metadata": {},
   "outputs": [],
   "source": []
  }
 ],
 "metadata": {
  "language_info": {
   "name": "python",
   "pygments_lexer": "ipython3"
  }
 },
 "nbformat": 4,
 "nbformat_minor": 4
}
