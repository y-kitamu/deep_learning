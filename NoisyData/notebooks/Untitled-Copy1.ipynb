{
 "cells": [
  {
   "cell_type": "code",
   "execution_count": null,
   "metadata": {},
   "outputs": [
    {
     "name": "stderr",
     "output_type": "stream",
     "text": [
      "/home/kitamura/.local/lib/python3.6/site-packages/tensorflow_addons/utils/ensure_tf_install.py:44: UserWarning: You are currently using a nightly version of TensorFlow (2.2.0-dev20200403). \n",
      "TensorFlow Addons offers no support for the nightly versions of TensorFlow. Some things might work, some other might not. \n",
      "If you encounter a bug, do not file an issue on GitHub.\n",
      "  UserWarning,\n"
     ]
    }
   ],
   "source": [
    "import tensorflow as tf\n",
    "import tensorflow_addons as tfa\n",
    "import numpy as np\n",
    "import matplotlib.pyplot as plt\n",
    "\n",
    "import noisydata\n",
    "\n",
    "print(\"Num GPUs Available: \", len(tf.config.experimental.list_physical_devices('GPU')))\n",
    "tf.config.experimental.list_physical_devices('GPU')"
   ]
  },
  {
   "cell_type": "code",
   "execution_count": 1,
   "metadata": {},
   "outputs": [],
   "source": [
    "def plot_images(x_train, y_train, gt_y_train, start_idx=0, rows=5, cols=7):\n",
    "    \n",
    "    fig, axes = plt.subplots(nrows=rows, ncols=cols, figsize=(cols * 5, rows * 5))\n",
    "    for row in range(rows):\n",
    "        for col in range(cols):\n",
    "            idx = row * cols + col + start_idx\n",
    "            axes[row][col].imshow(x_train[idx])\n",
    "            axes[row][col].set_title(\"label = {}, true = {}\".format(y_train[idx, 0], gt_y_train[idx, 0]))\n",
    "    plt.show()"
   ]
  },
  {
   "cell_type": "code",
   "execution_count": 1,
   "metadata": {},
   "outputs": [
    {
     "ename": "NameError",
     "evalue": "name 'noisydata' is not defined",
     "output_type": "error",
     "traceback": [
      "\u001b[0;31m\u001b[0m",
      "\u001b[0;31mNameError\u001b[0mTraceback (most recent call last)",
      "\u001b[0;32m<ipython-input-1-82925aad4247>\u001b[0m in \u001b[0;36m<module>\u001b[0;34m\u001b[0m\n\u001b[1;32m      1\u001b[0m \u001b[0;31m#model = noisydata.models.MyModel()\u001b[0m\u001b[0;34m\u001b[0m\u001b[0;34m\u001b[0m\u001b[0;34m\u001b[0m\u001b[0m\n\u001b[0;32m----> 2\u001b[0;31m \u001b[0mmodel\u001b[0m \u001b[0;34m=\u001b[0m \u001b[0mnoisydata\u001b[0m\u001b[0;34m.\u001b[0m\u001b[0mmodels\u001b[0m\u001b[0;34m.\u001b[0m\u001b[0mPreActResNet32\u001b[0m\u001b[0;34m(\u001b[0m\u001b[0;34m)\u001b[0m\u001b[0;34m\u001b[0m\u001b[0;34m\u001b[0m\u001b[0m\n\u001b[0m\u001b[1;32m      3\u001b[0m \u001b[0;31m#loss_func = noisydata.loss.NoisyDataLoss(1.2, 0.8, np.ones(10) / 10)\u001b[0m\u001b[0;34m\u001b[0m\u001b[0;34m\u001b[0m\u001b[0;34m\u001b[0m\u001b[0m\n\u001b[1;32m      4\u001b[0m \u001b[0mloss_func\u001b[0m \u001b[0;34m=\u001b[0m \u001b[0mtf\u001b[0m\u001b[0;34m.\u001b[0m\u001b[0mkeras\u001b[0m\u001b[0;34m.\u001b[0m\u001b[0mlosses\u001b[0m\u001b[0;34m.\u001b[0m\u001b[0mSparseCategoricalCrossentropy\u001b[0m\u001b[0;34m(\u001b[0m\u001b[0;34m)\u001b[0m\u001b[0;34m\u001b[0m\u001b[0;34m\u001b[0m\u001b[0m\n\u001b[1;32m      5\u001b[0m \u001b[0;31m#optimizer = tf.keras.optimizers.SGD(learning_rate=0.01, momentum=0.9)\u001b[0m\u001b[0;34m\u001b[0m\u001b[0;34m\u001b[0m\u001b[0;34m\u001b[0m\u001b[0m\n",
      "\u001b[0;31mNameError\u001b[0m: name 'noisydata' is not defined"
     ]
    }
   ],
   "source": [
    "#model = noisydata.models.MyModel()\n",
    "model = noisydata.models.PreActResNet32()\n",
    "#loss_func = noisydata.loss.NoisyDataLoss(1.2, 0.8, np.ones(10) / 10)\n",
    "loss_func = tf.keras.losses.SparseCategoricalCrossentropy()\n",
    "#optimizer = tf.keras.optimizers.SGD(learning_rate=0.01, momentum=0.9)\n",
    "# optimizer = tfa.optimizers.SGDW(\n",
    "#     weight_decay=1e-4,\n",
    "#     learning_rate=0.01,\n",
    "#     momentum=0.9)\n",
    "lr_scheduler = None\n",
    "optimizer = tfa.optimizers.AdamW(weight_decay=1e-4)\n",
    "\n",
    "trainer = noisydata.train.Trainer(\n",
    "    model=model,\n",
    "    loss=loss_func,\n",
    "    optimizer=optimizer,\n",
    "    lr_scheduler=lr_scheduler,\n",
    "    batch_size=160,\n",
    "    is_one_hot=False\n",
    ")"
   ]
  },
  {
   "cell_type": "code",
   "execution_count": null,
   "metadata": {},
   "outputs": [
    {
     "name": "stdout",
     "output_type": "stream",
     "text": [
      " 0 / 45000WARNING:tensorflow:Layer pre_act_res_net32 is casting an input tensor from dtype float64 to the layer's dtype of float32, which is new behavior in TensorFlow 2.  The layer has dtype float32 because its dtype defaults to floatx.\n",
      "\n",
      "If you intended to run this layer in float32, you can safely ignore this warning. If in doubt, this warning is likely only an issue if you are porting a TensorFlow 1.X model to TensorFlow 2.\n",
      "\n",
      "To change all layers to have dtype float64 by default, call `tf.keras.backend.set_floatx('float64')`. To change just this layer, pass dtype='float64' to the layer constructor. If you are the author of this layer, you can disable autocasting by passing autocast=False to the base Layer constructor.\n",
      "\n",
      "[2020-11-03 16:12:31 (function _save_weight in file ../noisydata/train.py at line 169)] Save model : best_acc\n",
      "[2020-11-03 16:12:31 (function _save_weight in file ../noisydata/train.py at line 169)] Save model : best_loss\n",
      "[2020-11-03 16:12:31 (function train in file ../noisydata/train.py at line 203)] Epoch : 1, Loss : 1.797, Accuracy : 36.109, Val Loss : 3.234, Val Accuracy : 15.120, Elapsed Time : 31.30 [sec]\n",
      "[2020-11-03 16:13:01 (function _save_weight in file ../noisydata/train.py at line 169)] Save model : best_acc\n",
      "[2020-11-03 16:13:01 (function _save_weight in file ../noisydata/train.py at line 169)] Save model : best_loss\n",
      "[2020-11-03 16:13:01 (function train in file ../noisydata/train.py at line 203)] Epoch : 2, Loss : 1.506, Accuracy : 50.238, Val Loss : 2.360, Val Accuracy : 30.620, Elapsed Time : 29.48 [sec]\n",
      "[2020-11-03 16:13:30 (function _save_weight in file ../noisydata/train.py at line 169)] Save model : best_acc\n",
      "[2020-11-03 16:13:30 (function _save_weight in file ../noisydata/train.py at line 169)] Save model : best_loss\n",
      "[2020-11-03 16:13:30 (function train in file ../noisydata/train.py at line 203)] Epoch : 3, Loss : 1.380, Accuracy : 55.936, Val Loss : 1.915, Val Accuracy : 39.300, Elapsed Time : 29.53 [sec]\n",
      "[2020-11-03 16:13:59 (function _save_weight in file ../noisydata/train.py at line 169)] Save model : best_acc\n",
      "[2020-11-03 16:13:59 (function _save_weight in file ../noisydata/train.py at line 169)] Save model : best_loss\n",
      "[2020-11-03 16:13:59 (function train in file ../noisydata/train.py at line 203)] Epoch : 4, Loss : 1.302, Accuracy : 59.296, Val Loss : 1.402, Val Accuracy : 55.420, Elapsed Time : 29.29 [sec]\n",
      "[2020-11-03 16:14:29 (function train in file ../noisydata/train.py at line 203)] Epoch : 5, Loss : 1.237, Accuracy : 61.773, Val Loss : 1.680, Val Accuracy : 48.840, Elapsed Time : 29.33 [sec]\n",
      "[2020-11-03 16:14:58 (function train in file ../noisydata/train.py at line 203)] Epoch : 6, Loss : 1.178, Accuracy : 64.291, Val Loss : 1.821, Val Accuracy : 44.800, Elapsed Time : 29.21 [sec]\n",
      "[2020-11-03 16:15:27 (function train in file ../noisydata/train.py at line 203)] Epoch : 7, Loss : 1.126, Accuracy : 66.738, Val Loss : 1.563, Val Accuracy : 52.480, Elapsed Time : 29.15 [sec]\n",
      "[2020-11-03 16:15:57 (function train in file ../noisydata/train.py at line 203)] Epoch : 8, Loss : 1.083, Accuracy : 68.422, Val Loss : 1.591, Val Accuracy : 52.760, Elapsed Time : 29.62 [sec]\n",
      "[2020-11-03 16:16:26 (function _save_weight in file ../noisydata/train.py at line 169)] Save model : best_acc\n",
      "[2020-11-03 16:16:26 (function train in file ../noisydata/train.py at line 203)] Epoch : 9, Loss : 1.049, Accuracy : 69.642, Val Loss : 1.539, Val Accuracy : 57.820, Elapsed Time : 29.31 [sec]\n",
      "[2020-11-03 16:16:56 (function _save_weight in file ../noisydata/train.py at line 169)] Save model : best_acc\n",
      "[2020-11-03 16:16:56 (function _save_weight in file ../noisydata/train.py at line 169)] Save model : best_loss\n",
      "[2020-11-03 16:16:56 (function train in file ../noisydata/train.py at line 203)] Epoch : 10, Loss : 1.022, Accuracy : 70.589, Val Loss : 1.237, Val Accuracy : 64.100, Elapsed Time : 29.71 [sec]\n",
      "[2020-11-03 16:17:25 (function _save_weight in file ../noisydata/train.py at line 169)] Save model : best_acc\n",
      "[2020-11-03 16:17:25 (function _save_weight in file ../noisydata/train.py at line 169)] Save model : best_loss\n",
      "[2020-11-03 16:17:25 (function train in file ../noisydata/train.py at line 203)] Epoch : 11, Loss : 0.986, Accuracy : 71.991, Val Loss : 1.142, Val Accuracy : 67.620, Elapsed Time : 29.55 [sec]\n",
      "[2020-11-03 16:17:55 (function train in file ../noisydata/train.py at line 203)] Epoch : 12, Loss : 0.963, Accuracy : 73.180, Val Loss : 1.330, Val Accuracy : 61.560, Elapsed Time : 29.32 [sec]\n",
      "[2020-11-03 16:18:24 (function train in file ../noisydata/train.py at line 203)] Epoch : 13, Loss : 0.933, Accuracy : 74.018, Val Loss : 1.568, Val Accuracy : 55.020, Elapsed Time : 29.66 [sec]\n",
      "[2020-11-03 16:18:54 (function train in file ../noisydata/train.py at line 203)] Epoch : 14, Loss : 0.913, Accuracy : 74.907, Val Loss : 1.148, Val Accuracy : 66.960, Elapsed Time : 29.96 [sec]\n",
      "[2020-11-03 16:19:24 (function train in file ../noisydata/train.py at line 203)] Epoch : 15, Loss : 0.898, Accuracy : 75.687, Val Loss : 1.319, Val Accuracy : 61.380, Elapsed Time : 29.91 [sec]\n",
      "[2020-11-03 16:19:54 (function _save_weight in file ../noisydata/train.py at line 169)] Save model : best_acc\n",
      "[2020-11-03 16:19:54 (function _save_weight in file ../noisydata/train.py at line 169)] Save model : best_loss\n",
      "[2020-11-03 16:19:54 (function train in file ../noisydata/train.py at line 203)] Epoch : 16, Loss : 0.877, Accuracy : 76.251, Val Loss : 1.112, Val Accuracy : 69.860, Elapsed Time : 30.10 [sec]\n",
      "[2020-11-03 16:20:24 (function train in file ../noisydata/train.py at line 203)] Epoch : 17, Loss : 0.859, Accuracy : 76.836, Val Loss : 1.125, Val Accuracy : 68.420, Elapsed Time : 29.83 [sec]\n",
      "[2020-11-03 16:20:54 (function train in file ../noisydata/train.py at line 203)] Epoch : 18, Loss : 0.840, Accuracy : 77.442, Val Loss : 1.212, Val Accuracy : 66.660, Elapsed Time : 29.47 [sec]\n",
      "[2020-11-03 16:21:23 (function train in file ../noisydata/train.py at line 203)] Epoch : 19, Loss : 0.819, Accuracy : 78.249, Val Loss : 1.177, Val Accuracy : 67.080, Elapsed Time : 29.60 [sec]\n",
      "[2020-11-03 16:21:54 (function train in file ../noisydata/train.py at line 203)] Epoch : 20, Loss : 0.814, Accuracy : 78.344, Val Loss : 1.252, Val Accuracy : 66.480, Elapsed Time : 29.96 [sec]\n",
      "[2020-11-03 16:22:23 (function train in file ../noisydata/train.py at line 203)] Epoch : 21, Loss : 0.798, Accuracy : 79.040, Val Loss : 1.320, Val Accuracy : 64.640, Elapsed Time : 29.70 [sec]\n",
      "[2020-11-03 16:22:53 (function train in file ../noisydata/train.py at line 203)] Epoch : 22, Loss : 0.779, Accuracy : 79.620, Val Loss : 1.316, Val Accuracy : 64.300, Elapsed Time : 29.62 [sec]\n",
      "[2020-11-03 16:23:23 (function _save_weight in file ../noisydata/train.py at line 169)] Save model : best_acc\n",
      "[2020-11-03 16:23:23 (function _save_weight in file ../noisydata/train.py at line 169)] Save model : best_loss\n",
      "[2020-11-03 16:23:23 (function train in file ../noisydata/train.py at line 203)] Epoch : 23, Loss : 0.768, Accuracy : 80.007, Val Loss : 1.056, Val Accuracy : 72.280, Elapsed Time : 30.04 [sec]\n",
      "[2020-11-03 16:23:53 (function train in file ../noisydata/train.py at line 203)] Epoch : 24, Loss : 0.755, Accuracy : 80.229, Val Loss : 1.245, Val Accuracy : 66.200, Elapsed Time : 29.97 [sec]\n",
      "[2020-11-03 16:24:23 (function train in file ../noisydata/train.py at line 203)] Epoch : 25, Loss : 0.739, Accuracy : 80.887, Val Loss : 1.142, Val Accuracy : 69.680, Elapsed Time : 29.85 [sec]\n",
      " 23680 / 45000"
     ]
    }
   ],
   "source": [
    "noisydata.utility.run_debug(\n",
    "    lambda : trainer.train()\n",
    ")"
   ]
  },
  {
   "cell_type": "code",
   "execution_count": null,
   "metadata": {},
   "outputs": [],
   "source": []
  }
 ],
 "metadata": {
  "kernelspec": {
   "display_name": "Python 3",
   "language": "python",
   "name": "python3"
  },
  "language_info": {
   "codemirror_mode": {
    "name": "ipython",
    "version": 3
   },
   "file_extension": ".py",
   "mimetype": "text/x-python",
   "name": "python",
   "nbconvert_exporter": "python",
   "pygments_lexer": "ipython3",
   "version": "3.6.9"
  }
 },
 "nbformat": 4,
 "nbformat_minor": 4
}
