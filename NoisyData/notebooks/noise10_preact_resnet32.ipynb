{
 "cells": [
  {
   "cell_type": "markdown",
   "metadata": {},
   "source": [
    "# ノイズあり(10%)でのCifar10 - resnet32 の実験、ラベルの修正なし\n",
    "- 精度が論文と同等になることを確認する"
   ]
  },
  {
   "cell_type": "code",
   "execution_count": 1,
   "metadata": {},
   "outputs": [],
   "source": [
    "import tensorflow as tf\n",
    "from noisydata.data_utils import CIFAR10Data\n",
    "from noisydata.resnet import PreActResNet32\n",
    "from noisydata.loss import LabelOptimLoss"
   ]
  },
  {
   "cell_type": "code",
   "execution_count": 2,
   "metadata": {},
   "outputs": [],
   "source": [
    "cifar10_data = CIFAR10Data()\n",
    "data = cifar10_data.get_noisy_data(subtract_mean=True, noise_ratio=0.1)\n",
    "\n",
    "weight_decay = 1e-4\n",
    "lr = 1e-1\n",
    "num_classes = 10\n",
    "\n",
    "model = PreActResNet32(\n",
    "    classes=num_classes,\n",
    "    input_shape=data[0].shape[1:],\n",
    "    weight_decay=weight_decay\n",
    ")\n",
    "\n",
    "opt = tf.keras.optimizers.Adam()\n",
    "lr = 0.001\n",
    "\n",
    "loss_fun = LabelOptimLoss()"
   ]
  },
  {
   "cell_type": "code",
   "execution_count": 3,
   "metadata": {
    "collapsed": true,
    "jupyter": {
     "outputs_hidden": true
    }
   },
   "outputs": [
    {
     "name": "stdout",
     "output_type": "stream",
     "text": [
      "WARNING:tensorflow:From /home/kitamura/work/DeepLearning/NoisyData/noisydata/solver.py:130: Model.fit_generator (from tensorflow.python.keras.engine.training) is deprecated and will be removed in a future version.\n",
      "Instructions for updating:\n",
      "Please use Model.fit, which supports generators.\n",
      "Epoch 1/40\n",
      "313/313 [==============================] - 18s 56ms/step - loss: 2.0384 - accuracy: 0.4126 - val_loss: 3.2319 - val_accuracy: 0.3515 - lr: 0.0010\n",
      "Epoch 2/40\n",
      "313/313 [==============================] - 17s 54ms/step - loss: 1.6751 - accuracy: 0.5550 - val_loss: 2.1245 - val_accuracy: 0.5008 - lr: 0.0010\n",
      "Epoch 3/40\n",
      "313/313 [==============================] - 17s 54ms/step - loss: 1.5346 - accuracy: 0.6050 - val_loss: 1.8223 - val_accuracy: 0.5593 - lr: 0.0010\n",
      "Epoch 4/40\n",
      "313/313 [==============================] - 17s 54ms/step - loss: 1.4426 - accuracy: 0.6386 - val_loss: 1.6794 - val_accuracy: 0.6117 - lr: 0.0010\n",
      "Epoch 5/40\n",
      "313/313 [==============================] - 17s 54ms/step - loss: 1.3585 - accuracy: 0.6715 - val_loss: 1.6669 - val_accuracy: 0.6283 - lr: 0.0010\n",
      "Epoch 6/40\n",
      "313/313 [==============================] - 17s 54ms/step - loss: 1.3029 - accuracy: 0.6957 - val_loss: 2.6205 - val_accuracy: 0.4678 - lr: 0.0010\n",
      "Epoch 7/40\n",
      "313/313 [==============================] - 17s 54ms/step - loss: 1.2630 - accuracy: 0.7095 - val_loss: 1.4895 - val_accuracy: 0.6798 - lr: 0.0010\n",
      "Epoch 8/40\n",
      "313/313 [==============================] - 17s 54ms/step - loss: 1.2273 - accuracy: 0.7244 - val_loss: 1.4918 - val_accuracy: 0.6870 - lr: 0.0010\n",
      "Epoch 9/40\n",
      "313/313 [==============================] - 17s 54ms/step - loss: 1.2015 - accuracy: 0.7335 - val_loss: 1.5326 - val_accuracy: 0.6923 - lr: 0.0010\n",
      "Epoch 10/40\n",
      "313/313 [==============================] - 17s 54ms/step - loss: 1.1762 - accuracy: 0.7448 - val_loss: 1.4446 - val_accuracy: 0.7104 - lr: 0.0010\n",
      "Epoch 11/40\n",
      "313/313 [==============================] - 17s 54ms/step - loss: 1.0603 - accuracy: 0.7864 - val_loss: 1.2148 - val_accuracy: 0.7795 - lr: 1.0000e-04\n",
      "Epoch 12/40\n",
      "313/313 [==============================] - 17s 54ms/step - loss: 1.0162 - accuracy: 0.7964 - val_loss: 1.2033 - val_accuracy: 0.7860 - lr: 1.0000e-04\n",
      "Epoch 13/40\n",
      "313/313 [==============================] - 17s 54ms/step - loss: 0.9935 - accuracy: 0.8042 - val_loss: 1.2177 - val_accuracy: 0.7791 - lr: 1.0000e-04\n",
      "Epoch 14/40\n",
      "313/313 [==============================] - 17s 54ms/step - loss: 0.9834 - accuracy: 0.8078 - val_loss: 1.2207 - val_accuracy: 0.7804 - lr: 1.0000e-04\n",
      "Epoch 15/40\n",
      "313/313 [==============================] - 17s 54ms/step - loss: 0.9704 - accuracy: 0.8111 - val_loss: 1.2039 - val_accuracy: 0.7838 - lr: 1.0000e-04\n",
      "Epoch 16/40\n",
      "313/313 [==============================] - 17s 54ms/step - loss: 0.9589 - accuracy: 0.8135 - val_loss: 1.2023 - val_accuracy: 0.7835 - lr: 1.0000e-04\n",
      "Epoch 17/40\n",
      "313/313 [==============================] - 17s 54ms/step - loss: 0.9447 - accuracy: 0.8183 - val_loss: 1.2163 - val_accuracy: 0.7780 - lr: 1.0000e-04\n",
      "Epoch 18/40\n",
      "313/313 [==============================] - 17s 54ms/step - loss: 0.9299 - accuracy: 0.8215 - val_loss: 1.2019 - val_accuracy: 0.7881 - lr: 1.0000e-04\n",
      "Epoch 19/40\n",
      "313/313 [==============================] - 17s 54ms/step - loss: 0.9224 - accuracy: 0.8225 - val_loss: 1.1919 - val_accuracy: 0.7871 - lr: 1.0000e-04\n",
      "Epoch 20/40\n",
      "313/313 [==============================] - 17s 54ms/step - loss: 0.9121 - accuracy: 0.8254 - val_loss: 1.2201 - val_accuracy: 0.7831 - lr: 1.0000e-04\n",
      "Epoch 21/40\n",
      "313/313 [==============================] - 17s 55ms/step - loss: 0.8831 - accuracy: 0.8349 - val_loss: 1.1761 - val_accuracy: 0.7950 - lr: 1.0000e-05\n",
      "Epoch 22/40\n",
      "313/313 [==============================] - 17s 54ms/step - loss: 0.8777 - accuracy: 0.8374 - val_loss: 1.1747 - val_accuracy: 0.7945 - lr: 1.0000e-05\n",
      "Epoch 23/40\n",
      "313/313 [==============================] - 17s 54ms/step - loss: 0.8754 - accuracy: 0.8381 - val_loss: 1.1765 - val_accuracy: 0.7940 - lr: 1.0000e-05\n",
      "Epoch 24/40\n",
      "313/313 [==============================] - 17s 54ms/step - loss: 0.8700 - accuracy: 0.8400 - val_loss: 1.1792 - val_accuracy: 0.7933 - lr: 1.0000e-05\n",
      "Epoch 25/40\n",
      "313/313 [==============================] - 17s 54ms/step - loss: 0.8759 - accuracy: 0.8372 - val_loss: 1.1781 - val_accuracy: 0.7938 - lr: 1.0000e-05\n",
      "Epoch 26/40\n",
      "313/313 [==============================] - 17s 54ms/step - loss: 0.8703 - accuracy: 0.8388 - val_loss: 1.1779 - val_accuracy: 0.7934 - lr: 1.0000e-05\n",
      "Epoch 27/40\n",
      "313/313 [==============================] - 17s 54ms/step - loss: 0.8648 - accuracy: 0.8407 - val_loss: 1.1787 - val_accuracy: 0.7933 - lr: 1.0000e-05\n",
      "Epoch 28/40\n",
      "313/313 [==============================] - 17s 54ms/step - loss: 0.8650 - accuracy: 0.8399 - val_loss: 1.1803 - val_accuracy: 0.7941 - lr: 1.0000e-05\n",
      "Epoch 29/40\n",
      "313/313 [==============================] - 17s 54ms/step - loss: 0.8666 - accuracy: 0.8388 - val_loss: 1.1810 - val_accuracy: 0.7936 - lr: 1.0000e-05\n",
      "Epoch 30/40\n",
      "313/313 [==============================] - 17s 54ms/step - loss: 0.8619 - accuracy: 0.8414 - val_loss: 1.1810 - val_accuracy: 0.7934 - lr: 1.0000e-05\n",
      "Epoch 31/40\n",
      "313/313 [==============================] - 17s 54ms/step - loss: 0.8576 - accuracy: 0.8420 - val_loss: 1.1800 - val_accuracy: 0.7937 - lr: 1.0000e-06\n",
      "Epoch 32/40\n",
      "313/313 [==============================] - 17s 54ms/step - loss: 0.8573 - accuracy: 0.8423 - val_loss: 1.1801 - val_accuracy: 0.7939 - lr: 1.0000e-06\n",
      "Epoch 33/40\n",
      "313/313 [==============================] - 17s 54ms/step - loss: 0.8602 - accuracy: 0.8424 - val_loss: 1.1800 - val_accuracy: 0.7942 - lr: 1.0000e-06\n",
      "Epoch 34/40\n",
      "313/313 [==============================] - 17s 54ms/step - loss: 0.8575 - accuracy: 0.8424 - val_loss: 1.1801 - val_accuracy: 0.7940 - lr: 1.0000e-06\n",
      "Epoch 35/40\n",
      "313/313 [==============================] - 17s 54ms/step - loss: 0.8588 - accuracy: 0.8396 - val_loss: 1.1801 - val_accuracy: 0.7938 - lr: 1.0000e-06\n",
      "Epoch 36/40\n",
      "313/313 [==============================] - 17s 54ms/step - loss: 0.8563 - accuracy: 0.8424 - val_loss: 1.1803 - val_accuracy: 0.7940 - lr: 1.0000e-06\n",
      "Epoch 37/40\n",
      "313/313 [==============================] - 17s 54ms/step - loss: 0.8583 - accuracy: 0.8422 - val_loss: 1.1806 - val_accuracy: 0.7941 - lr: 1.0000e-06\n",
      "Epoch 38/40\n",
      "313/313 [==============================] - 17s 54ms/step - loss: 0.8592 - accuracy: 0.8403 - val_loss: 1.1805 - val_accuracy: 0.7935 - lr: 1.0000e-06\n",
      "Epoch 39/40\n",
      "313/313 [==============================] - 17s 54ms/step - loss: 0.8539 - accuracy: 0.8420 - val_loss: 1.1802 - val_accuracy: 0.7935 - lr: 1.0000e-06\n",
      "Epoch 40/40\n",
      "313/313 [==============================] - 17s 54ms/step - loss: 0.8575 - accuracy: 0.8403 - val_loss: 1.1808 - val_accuracy: 0.7937 - lr: 1.0000e-06\n"
     ]
    },
    {
     "data": {
      "text/plain": [
       "<tensorflow.python.keras.callbacks.History at 0x7ff8001f8390>"
      ]
     },
     "execution_count": 3,
     "metadata": {},
     "output_type": "execute_result"
    }
   ],
   "source": [
    "from noisydata.solver import Solver\n",
    "from tensorflow.keras.callbacks import LearningRateScheduler, ReduceLROnPlateau\n",
    "\n",
    "model.compile(\n",
    "    loss=loss_fun, optimizer=opt, metrics=[\"accuracy\"])\n",
    "#model.summary()\n",
    "\n",
    "def lr_scheduler(epoch):\n",
    "    new_lr = lr * (0.1 ** (epoch // 10))\n",
    "    return new_lr\n",
    "\n",
    "solver = Solver(model, data)\n",
    "solver.fit(epochs=40, batch_size=128, data_augmentation=True, lr_scheduler=lr_scheduler)"
   ]
  },
  {
   "cell_type": "code",
   "execution_count": 4,
   "metadata": {},
   "outputs": [
    {
     "name": "stdout",
     "output_type": "stream",
     "text": [
      "313/313 [==============================] - 2s 6ms/step - loss: 0.7587 - accuracy: 0.8742\n",
      "test data loss = 0.76, acc = 0.8742\n"
     ]
    }
   ],
   "source": [
    "solver.test()"
   ]
  },
  {
   "cell_type": "code",
   "execution_count": null,
   "metadata": {},
   "outputs": [
    {
     "name": "stdout",
     "output_type": "stream",
     "text": [
      "[2020-11-08 19:35:36 (function on_train_begin in file ../noisydata/callback.py at line 60)] Model         = PreActResNet32\n",
      "[2020-11-08 19:35:36 (function on_train_begin in file ../noisydata/callback.py at line 61)] Optimizer     = Adam\n",
      "[2020-11-08 19:35:36 (function on_train_begin in file ../noisydata/callback.py at line 62)] Loss function = LabelOptimLoss\n",
      "[2020-11-08 19:35:36 (function on_train_begin in file ../noisydata/callback.py at line 64)] Train / Val   = 40000 / 10000\n",
      "[2020-11-08 19:35:36 (function on_train_begin in file ../noisydata/callback.py at line 66)] Batch size    = 128\n",
      "[2020-11-08 19:36:01 (function on_epoch_end in file ../noisydata/callback.py at line 188)] Ground Truth Val accuracy : 0.528\n",
      "[2020-11-08 19:36:02 (function on_epoch_end in file ../noisydata/callback.py at line 119)] Epoch 0, Loss : 1.8170, Accuracy : 0.418, Val Loss : 1.8064, Val Accuracy : 0.477, lr : 0.001000, Elapsed Time : 25.02 (sec)\n",
      "[2020-11-08 19:36:21 (function on_epoch_end in file ../noisydata/callback.py at line 188)] Ground Truth Val accuracy : 0.456\n",
      "[2020-11-08 19:36:22 (function on_epoch_end in file ../noisydata/callback.py at line 119)] Epoch 1, Loss : 1.4886, Accuracy : 0.558, Val Loss : 2.4242, Val Accuracy : 0.414, lr : 0.001000, Elapsed Time : 19.86 (sec)\n",
      "[2020-11-08 19:36:41 (function on_epoch_end in file ../noisydata/callback.py at line 188)] Ground Truth Val accuracy : 0.607\n",
      "[2020-11-08 19:36:42 (function on_epoch_end in file ../noisydata/callback.py at line 119)] Epoch 2, Loss : 1.3339, Accuracy : 0.623, Val Loss : 1.7548, Val Accuracy : 0.550, lr : 0.001000, Elapsed Time : 20.07 (sec)\n",
      "[2020-11-08 19:37:01 (function on_epoch_end in file ../noisydata/callback.py at line 188)] Ground Truth Val accuracy : 0.665\n",
      "[2020-11-08 19:37:02 (function on_epoch_end in file ../noisydata/callback.py at line 119)] Epoch 3, Loss : 1.2455, Accuracy : 0.660, Val Loss : 1.5603, Val Accuracy : 0.603, lr : 0.001000, Elapsed Time : 20.35 (sec)\n",
      "[2020-11-08 19:37:22 (function on_epoch_end in file ../noisydata/callback.py at line 188)] Ground Truth Val accuracy : 0.696\n",
      "[2020-11-08 19:37:22 (function on_epoch_end in file ../noisydata/callback.py at line 119)] Epoch 4, Loss : 1.1626, Accuracy : 0.692, Val Loss : 1.4932, Val Accuracy : 0.630, lr : 0.001000, Elapsed Time : 20.30 (sec)\n",
      "[2020-11-08 19:37:42 (function on_epoch_end in file ../noisydata/callback.py at line 188)] Ground Truth Val accuracy : 0.727\n",
      "[2020-11-08 19:37:43 (function on_epoch_end in file ../noisydata/callback.py at line 119)] Epoch 5, Loss : 1.1184, Accuracy : 0.711, Val Loss : 1.3407, Val Accuracy : 0.656, lr : 0.001000, Elapsed Time : 20.11 (sec)\n",
      "[2020-11-08 19:38:02 (function on_epoch_end in file ../noisydata/callback.py at line 188)] Ground Truth Val accuracy : 0.723\n",
      "[2020-11-08 19:38:03 (function on_epoch_end in file ../noisydata/callback.py at line 119)] Epoch 6, Loss : 1.0746, Accuracy : 0.727, Val Loss : 1.3756, Val Accuracy : 0.654, lr : 0.001000, Elapsed Time : 19.98 (sec)\n",
      "[2020-11-08 19:38:22 (function on_epoch_end in file ../noisydata/callback.py at line 188)] Ground Truth Val accuracy : 0.686\n",
      "[2020-11-08 19:38:22 (function on_epoch_end in file ../noisydata/callback.py at line 119)] Epoch 7, Loss : 1.0373, Accuracy : 0.742, Val Loss : 1.7129, Val Accuracy : 0.621, lr : 0.001000, Elapsed Time : 19.74 (sec)\n",
      "[2020-11-08 19:38:42 (function on_epoch_end in file ../noisydata/callback.py at line 188)] Ground Truth Val accuracy : 0.714\n",
      "[2020-11-08 19:38:42 (function on_epoch_end in file ../noisydata/callback.py at line 119)] Epoch 8, Loss : 1.0005, Accuracy : 0.753, Val Loss : 1.4620, Val Accuracy : 0.645, lr : 0.001000, Elapsed Time : 19.76 (sec)\n",
      "[2020-11-08 19:39:02 (function on_epoch_end in file ../noisydata/callback.py at line 188)] Ground Truth Val accuracy : 0.770\n",
      "[2020-11-08 19:39:02 (function on_epoch_end in file ../noisydata/callback.py at line 119)] Epoch 9, Loss : 0.9777, Accuracy : 0.763, Val Loss : 1.2831, Val Accuracy : 0.697, lr : 0.001000, Elapsed Time : 20.10 (sec)\n",
      "[2020-11-08 19:39:22 (function on_epoch_end in file ../noisydata/callback.py at line 188)] Ground Truth Val accuracy : 0.852\n",
      "[2020-11-08 19:39:23 (function on_epoch_end in file ../noisydata/callback.py at line 119)] Epoch 10, Loss : 0.8827, Accuracy : 0.797, Val Loss : 1.0020, Val Accuracy : 0.768, lr : 0.000100, Elapsed Time : 20.33 (sec)\n",
      "[2020-11-08 19:39:42 (function on_epoch_end in file ../noisydata/callback.py at line 188)] Ground Truth Val accuracy : 0.858\n",
      "[2020-11-08 19:39:43 (function on_epoch_end in file ../noisydata/callback.py at line 119)] Epoch 11, Loss : 0.8600, Accuracy : 0.806, Val Loss : 0.9838, Val Accuracy : 0.773, lr : 0.000100, Elapsed Time : 20.16 (sec)\n",
      "[2020-11-08 19:40:02 (function on_epoch_end in file ../noisydata/callback.py at line 188)] Ground Truth Val accuracy : 0.863\n",
      "[2020-11-08 19:40:03 (function on_epoch_end in file ../noisydata/callback.py at line 119)] Epoch 12, Loss : 0.8333, Accuracy : 0.812, Val Loss : 0.9764, Val Accuracy : 0.778, lr : 0.000100, Elapsed Time : 20.39 (sec)\n",
      "[2020-11-08 19:40:23 (function on_epoch_end in file ../noisydata/callback.py at line 188)] Ground Truth Val accuracy : 0.861\n",
      "[2020-11-08 19:40:23 (function on_epoch_end in file ../noisydata/callback.py at line 119)] Epoch 13, Loss : 0.8163, Accuracy : 0.816, Val Loss : 0.9794, Val Accuracy : 0.775, lr : 0.000100, Elapsed Time : 19.94 (sec)\n",
      "[2020-11-08 19:40:43 (function on_epoch_end in file ../noisydata/callback.py at line 188)] Ground Truth Val accuracy : 0.863\n",
      "[2020-11-08 19:40:43 (function on_epoch_end in file ../noisydata/callback.py at line 119)] Epoch 14, Loss : 0.8177, Accuracy : 0.819, Val Loss : 0.9801, Val Accuracy : 0.777, lr : 0.000100, Elapsed Time : 19.74 (sec)\n",
      "[2020-11-08 19:41:02 (function on_epoch_end in file ../noisydata/callback.py at line 188)] Ground Truth Val accuracy : 0.865\n",
      "[2020-11-08 19:41:03 (function on_epoch_end in file ../noisydata/callback.py at line 119)] Epoch 15, Loss : 0.8130, Accuracy : 0.821, Val Loss : 0.9717, Val Accuracy : 0.779, lr : 0.000100, Elapsed Time : 20.24 (sec)\n",
      "[2020-11-08 19:41:23 (function on_epoch_end in file ../noisydata/callback.py at line 188)] Ground Truth Val accuracy : 0.862\n",
      "[2020-11-08 19:41:23 (function on_epoch_end in file ../noisydata/callback.py at line 119)] Epoch 16, Loss : 0.8038, Accuracy : 0.823, Val Loss : 0.9795, Val Accuracy : 0.776, lr : 0.000100, Elapsed Time : 19.96 (sec)\n",
      "[2020-11-08 19:41:43 (function on_epoch_end in file ../noisydata/callback.py at line 188)] Ground Truth Val accuracy : 0.860\n",
      "[2020-11-08 19:41:43 (function on_epoch_end in file ../noisydata/callback.py at line 119)] Epoch 17, Loss : 0.7920, Accuracy : 0.825, Val Loss : 0.9949, Val Accuracy : 0.775, lr : 0.000100, Elapsed Time : 19.77 (sec)\n",
      "[2020-11-08 19:42:02 (function on_epoch_end in file ../noisydata/callback.py at line 188)] Ground Truth Val accuracy : 0.864\n",
      "[2020-11-08 19:42:03 (function on_epoch_end in file ../noisydata/callback.py at line 119)] Epoch 18, Loss : 0.7845, Accuracy : 0.829, Val Loss : 0.9795, Val Accuracy : 0.779, lr : 0.000100, Elapsed Time : 19.95 (sec)\n",
      "[2020-11-08 19:42:23 (function on_epoch_end in file ../noisydata/callback.py at line 188)] Ground Truth Val accuracy : 0.864\n",
      "[2020-11-08 19:42:23 (function on_epoch_end in file ../noisydata/callback.py at line 119)] Epoch 19, Loss : 0.7775, Accuracy : 0.831, Val Loss : 0.9813, Val Accuracy : 0.779, lr : 0.000100, Elapsed Time : 20.01 (sec)\n",
      "[2020-11-08 19:42:42 (function on_epoch_end in file ../noisydata/callback.py at line 188)] Ground Truth Val accuracy : 0.868\n",
      "[2020-11-08 19:42:43 (function on_epoch_end in file ../noisydata/callback.py at line 119)] Epoch 20, Loss : 0.7555, Accuracy : 0.836, Val Loss : 0.9669, Val Accuracy : 0.782, lr : 0.000010, Elapsed Time : 20.19 (sec)\n",
      "[2020-11-08 19:43:03 (function on_epoch_end in file ../noisydata/callback.py at line 188)] Ground Truth Val accuracy : 0.869\n",
      "[2020-11-08 19:43:03 (function on_epoch_end in file ../noisydata/callback.py at line 119)] Epoch 21, Loss : 0.7666, Accuracy : 0.835, Val Loss : 0.9645, Val Accuracy : 0.783, lr : 0.000010, Elapsed Time : 20.39 (sec)\n",
      "[2020-11-08 19:43:23 (function on_epoch_end in file ../noisydata/callback.py at line 188)] Ground Truth Val accuracy : 0.867\n",
      "[2020-11-08 19:43:23 (function on_epoch_end in file ../noisydata/callback.py at line 119)] Epoch 22, Loss : 0.7507, Accuracy : 0.839, Val Loss : 0.9653, Val Accuracy : 0.781, lr : 0.000010, Elapsed Time : 19.93 (sec)\n",
      "[2020-11-08 19:43:43 (function on_epoch_end in file ../noisydata/callback.py at line 188)] Ground Truth Val accuracy : 0.869\n",
      "[2020-11-08 19:43:43 (function on_epoch_end in file ../noisydata/callback.py at line 119)] Epoch 23, Loss : 0.7512, Accuracy : 0.840, Val Loss : 0.9651, Val Accuracy : 0.782, lr : 0.000010, Elapsed Time : 19.79 (sec)\n",
      "[2020-11-08 19:44:03 (function on_epoch_end in file ../noisydata/callback.py at line 188)] Ground Truth Val accuracy : 0.869\n",
      "[2020-11-08 19:44:03 (function on_epoch_end in file ../noisydata/callback.py at line 119)] Epoch 24, Loss : 0.7564, Accuracy : 0.837, Val Loss : 0.9660, Val Accuracy : 0.782, lr : 0.000010, Elapsed Time : 19.73 (sec)\n",
      "[2020-11-08 19:44:23 (function on_epoch_end in file ../noisydata/callback.py at line 188)] Ground Truth Val accuracy : 0.867\n",
      "[2020-11-08 19:44:23 (function on_epoch_end in file ../noisydata/callback.py at line 119)] Epoch 25, Loss : 0.7515, Accuracy : 0.838, Val Loss : 0.9669, Val Accuracy : 0.781, lr : 0.000010, Elapsed Time : 19.78 (sec)\n",
      "[2020-11-08 19:44:42 (function on_epoch_end in file ../noisydata/callback.py at line 188)] Ground Truth Val accuracy : 0.868\n",
      "[2020-11-08 19:44:43 (function on_epoch_end in file ../noisydata/callback.py at line 119)] Epoch 26, Loss : 0.7517, Accuracy : 0.839, Val Loss : 0.9677, Val Accuracy : 0.781, lr : 0.000010, Elapsed Time : 19.76 (sec)\n",
      "[2020-11-08 19:45:02 (function on_epoch_end in file ../noisydata/callback.py at line 188)] Ground Truth Val accuracy : 0.870\n",
      "[2020-11-08 19:45:03 (function on_epoch_end in file ../noisydata/callback.py at line 119)] Epoch 27, Loss : 0.7521, Accuracy : 0.838, Val Loss : 0.9673, Val Accuracy : 0.783, lr : 0.000010, Elapsed Time : 20.02 (sec)\n",
      " 203 / 313 : loss=0.7364"
     ]
    }
   ],
   "source": [
    "from noisydata.solver import Solver\n",
    "from noisydata.utility import run_debug\n",
    "from noisydata.callback import HandleNoisyLabel\n",
    "from tensorflow.keras.callbacks import LearningRateScheduler, ReduceLROnPlateau\n",
    "\n",
    "def lr_scheduler(epoch):\n",
    "    if epoch < 40: \n",
    "        new_lr = lr * (0.1 ** (epoch // 10))\n",
    "    elif epoch < 80:\n",
    "        new_lr = lr * (0.1 ** ((epoch - 40) // 10))\n",
    "    else:\n",
    "        new_lr = lr * (0.1 ** ((epoch - 80) // 10))\n",
    "        \n",
    "    return new_lr\n",
    "\n",
    "label_cb = HandleNoisyLabel(data, min_epoch=40, max_epoch=80, n_accumulate=10, update_label=True)\n",
    "\n",
    "solver = Solver(model, data, loss_fun, opt, callbacks=[label_cb])\n",
    "run_debug(\n",
    "    lambda: solver.train(epochs=40, batch_size=128, lr_scheduler=lr_scheduler)\n",
    ")"
   ]
  },
  {
   "cell_type": "code",
   "execution_count": 4,
   "metadata": {},
   "outputs": [
    {
     "name": "stdout",
     "output_type": "stream",
     "text": [
      "313/313 [==============================] - 2s 6ms/step - loss: 1.2178 - accuracy: 0.8716\n",
      "test data loss = 1.22, acc = 0.8716\n"
     ]
    }
   ],
   "source": [
    "solver.test(\"/home/kitamura/work/DeepLearning/NoisyData/results/20201108_150700/models/last_epoch.hdf5\")"
   ]
  },
  {
   "cell_type": "code",
   "execution_count": null,
   "metadata": {},
   "outputs": [],
   "source": []
  }
 ],
 "metadata": {
  "kernelspec": {
   "display_name": "Python 3",
   "language": "python",
   "name": "python3"
  },
  "language_info": {
   "codemirror_mode": {
    "name": "ipython",
    "version": 3
   },
   "file_extension": ".py",
   "mimetype": "text/x-python",
   "name": "python",
   "nbconvert_exporter": "python",
   "pygments_lexer": "ipython3",
   "version": "3.6.9"
  }
 },
 "nbformat": 4,
 "nbformat_minor": 4
}
