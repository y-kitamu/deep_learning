{
 "cells": [
  {
   "cell_type": "markdown",
   "metadata": {},
   "source": [
    "# ノイズなしでのCifar10 - resnet32 の実験\n",
    "- 精度が論文と同等になることを確認する"
   ]
  },
  {
   "cell_type": "code",
   "execution_count": 1,
   "metadata": {},
   "outputs": [],
   "source": [
    "import tensorflow as tf\n",
    "from noisydata.data_utils import CIFAR10Data\n",
    "from noisydata.resnet import PreActResNet32\n",
    "from noisydata.loss import LabelOptimLoss"
   ]
  },
  {
   "cell_type": "code",
   "execution_count": 2,
   "metadata": {},
   "outputs": [],
   "source": [
    "cifar10_data = CIFAR10Data()\n",
    "data = cifar10_data.get_data(subtract_mean=True)\n",
    "\n",
    "weight_decay = 1e-4\n",
    "lr = 1e-1\n",
    "num_classes = 10\n",
    "\n",
    "model = PreActResNet32(\n",
    "    classes=num_classes,\n",
    "    input_shape=data[0].shape[1:],\n",
    "    weight_decay=weight_decay\n",
    ")\n",
    "\n",
    "opt = tf.keras.optimizers.Adam()\n",
    "lr = 0.001\n",
    "\n",
    "loss_fun = LabelOptimLoss()\n",
    "#loss_fun = tf.keras.losses.CategoricalCrossentropy()\n",
    "\n",
    "model.compile(\n",
    "    loss=loss_fun, optimizer=opt, metrics=[\"accuracy\"])\n",
    "#model.summary()"
   ]
  },
  {
   "cell_type": "code",
   "execution_count": 3,
   "metadata": {
    "collapsed": true,
    "jupyter": {
     "outputs_hidden": true
    }
   },
   "outputs": [
    {
     "name": "stdout",
     "output_type": "stream",
     "text": [
      "WARNING:tensorflow:From /home/kitamura/work/DeepLearning/NoisyData/noisydata/solver.py:119: Model.fit_generator (from tensorflow.python.keras.engine.training) is deprecated and will be removed in a future version.\n",
      "Instructions for updating:\n",
      "Please use Model.fit, which supports generators.\n",
      "Epoch 1/40\n",
      "313/313 [==============================] - 18s 56ms/step - loss: 1.7783 - accuracy: 0.4838 - val_loss: 3.2795 - val_accuracy: 0.3695 - lr: 0.0010\n",
      "Epoch 2/40\n",
      "313/313 [==============================] - 17s 54ms/step - loss: 1.3025 - accuracy: 0.6453 - val_loss: 2.5716 - val_accuracy: 0.4758 - lr: 0.0010\n",
      "Epoch 3/40\n",
      "313/313 [==============================] - 17s 54ms/step - loss: 1.1041 - accuracy: 0.7085 - val_loss: 1.8152 - val_accuracy: 0.6109 - lr: 0.0010\n",
      "Epoch 4/40\n",
      "313/313 [==============================] - 17s 53ms/step - loss: 0.9685 - accuracy: 0.7536 - val_loss: 2.7259 - val_accuracy: 0.5334 - lr: 0.0010\n",
      "Epoch 5/40\n",
      "313/313 [==============================] - 17s 54ms/step - loss: 0.8853 - accuracy: 0.7823 - val_loss: 1.1488 - val_accuracy: 0.7540 - lr: 0.0010\n",
      "Epoch 6/40\n",
      "313/313 [==============================] - 17s 54ms/step - loss: 0.8183 - accuracy: 0.8029 - val_loss: 1.7869 - val_accuracy: 0.6655 - lr: 0.0010\n",
      "Epoch 7/40\n",
      "313/313 [==============================] - 17s 54ms/step - loss: 0.7726 - accuracy: 0.8178 - val_loss: 1.0147 - val_accuracy: 0.7871 - lr: 0.0010\n",
      "Epoch 8/40\n",
      "313/313 [==============================] - 17s 54ms/step - loss: 0.7261 - accuracy: 0.8347 - val_loss: 1.4102 - val_accuracy: 0.7284 - lr: 0.0010\n",
      "Epoch 9/40\n",
      "313/313 [==============================] - 17s 54ms/step - loss: 0.7012 - accuracy: 0.8417 - val_loss: 0.9466 - val_accuracy: 0.8123 - lr: 0.0010\n",
      "Epoch 10/40\n",
      "313/313 [==============================] - 17s 54ms/step - loss: 0.6626 - accuracy: 0.8566 - val_loss: 1.3180 - val_accuracy: 0.7508 - lr: 0.0010\n",
      "Epoch 11/40\n",
      "313/313 [==============================] - 17s 54ms/step - loss: 0.5380 - accuracy: 0.8946 - val_loss: 0.7437 - val_accuracy: 0.8771 - lr: 1.0000e-04\n",
      "Epoch 12/40\n",
      "313/313 [==============================] - 17s 55ms/step - loss: 0.4931 - accuracy: 0.9084 - val_loss: 0.7298 - val_accuracy: 0.8817 - lr: 1.0000e-04\n",
      "Epoch 13/40\n",
      "313/313 [==============================] - 17s 54ms/step - loss: 0.4756 - accuracy: 0.9141 - val_loss: 0.7021 - val_accuracy: 0.8887 - lr: 1.0000e-04\n",
      "Epoch 14/40\n",
      "313/313 [==============================] - 17s 54ms/step - loss: 0.4548 - accuracy: 0.9210 - val_loss: 0.7260 - val_accuracy: 0.8855 - lr: 1.0000e-04\n",
      "Epoch 15/40\n",
      "313/313 [==============================] - 17s 54ms/step - loss: 0.4411 - accuracy: 0.9240 - val_loss: 0.7335 - val_accuracy: 0.8839 - lr: 1.0000e-04\n",
      "Epoch 16/40\n",
      "313/313 [==============================] - 17s 54ms/step - loss: 0.4287 - accuracy: 0.9274 - val_loss: 0.7255 - val_accuracy: 0.8855 - lr: 1.0000e-04\n",
      "Epoch 17/40\n",
      "313/313 [==============================] - 17s 54ms/step - loss: 0.4148 - accuracy: 0.9283 - val_loss: 0.7209 - val_accuracy: 0.8857 - lr: 1.0000e-04\n",
      "Epoch 18/40\n",
      "313/313 [==============================] - 17s 54ms/step - loss: 0.4023 - accuracy: 0.9328 - val_loss: 0.7015 - val_accuracy: 0.8934 - lr: 1.0000e-04\n",
      "Epoch 19/40\n",
      "313/313 [==============================] - 17s 53ms/step - loss: 0.3943 - accuracy: 0.9355 - val_loss: 0.7084 - val_accuracy: 0.8891 - lr: 1.0000e-04\n",
      "Epoch 20/40\n",
      "313/313 [==============================] - 17s 54ms/step - loss: 0.3884 - accuracy: 0.9362 - val_loss: 0.7065 - val_accuracy: 0.8924 - lr: 1.0000e-04\n",
      "Epoch 21/40\n",
      "313/313 [==============================] - 17s 54ms/step - loss: 0.3574 - accuracy: 0.9466 - val_loss: 0.6827 - val_accuracy: 0.9011 - lr: 1.0000e-05\n",
      "Epoch 22/40\n",
      "313/313 [==============================] - 17s 54ms/step - loss: 0.3552 - accuracy: 0.9485 - val_loss: 0.6802 - val_accuracy: 0.9019 - lr: 1.0000e-05\n",
      "Epoch 23/40\n",
      "313/313 [==============================] - 17s 54ms/step - loss: 0.3548 - accuracy: 0.9481 - val_loss: 0.6783 - val_accuracy: 0.9037 - lr: 1.0000e-05\n",
      "Epoch 24/40\n",
      "313/313 [==============================] - 17s 54ms/step - loss: 0.3460 - accuracy: 0.9502 - val_loss: 0.6807 - val_accuracy: 0.9012 - lr: 1.0000e-05\n",
      "Epoch 25/40\n",
      "313/313 [==============================] - 17s 54ms/step - loss: 0.3467 - accuracy: 0.9500 - val_loss: 0.6820 - val_accuracy: 0.9020 - lr: 1.0000e-05\n",
      "Epoch 26/40\n",
      "313/313 [==============================] - 17s 54ms/step - loss: 0.3504 - accuracy: 0.9499 - val_loss: 0.6843 - val_accuracy: 0.9007 - lr: 1.0000e-05\n",
      "Epoch 27/40\n",
      "313/313 [==============================] - 17s 54ms/step - loss: 0.3448 - accuracy: 0.9501 - val_loss: 0.6813 - val_accuracy: 0.9028 - lr: 1.0000e-05\n",
      "Epoch 28/40\n",
      "313/313 [==============================] - 17s 53ms/step - loss: 0.3396 - accuracy: 0.9529 - val_loss: 0.6836 - val_accuracy: 0.9035 - lr: 1.0000e-05\n",
      "Epoch 29/40\n",
      "313/313 [==============================] - 17s 54ms/step - loss: 0.3423 - accuracy: 0.9509 - val_loss: 0.6833 - val_accuracy: 0.9038 - lr: 1.0000e-05\n",
      "Epoch 30/40\n",
      "313/313 [==============================] - 17s 54ms/step - loss: 0.3397 - accuracy: 0.9518 - val_loss: 0.6844 - val_accuracy: 0.9032 - lr: 1.0000e-05\n",
      "Epoch 31/40\n",
      "313/313 [==============================] - 17s 54ms/step - loss: 0.3385 - accuracy: 0.9518 - val_loss: 0.6852 - val_accuracy: 0.9040 - lr: 1.0000e-06\n",
      "Epoch 32/40\n",
      "313/313 [==============================] - 17s 54ms/step - loss: 0.3358 - accuracy: 0.9531 - val_loss: 0.6856 - val_accuracy: 0.9036 - lr: 1.0000e-06\n",
      "Epoch 33/40\n",
      "313/313 [==============================] - 17s 54ms/step - loss: 0.3339 - accuracy: 0.9532 - val_loss: 0.6848 - val_accuracy: 0.9033 - lr: 1.0000e-06\n",
      "Epoch 34/40\n",
      "313/313 [==============================] - 17s 54ms/step - loss: 0.3353 - accuracy: 0.9540 - val_loss: 0.6849 - val_accuracy: 0.9032 - lr: 1.0000e-06\n",
      "Epoch 35/40\n",
      "313/313 [==============================] - 17s 54ms/step - loss: 0.3355 - accuracy: 0.9538 - val_loss: 0.6847 - val_accuracy: 0.9037 - lr: 1.0000e-06\n",
      "Epoch 36/40\n",
      "313/313 [==============================] - 17s 54ms/step - loss: 0.3367 - accuracy: 0.9520 - val_loss: 0.6848 - val_accuracy: 0.9027 - lr: 1.0000e-06\n",
      "Epoch 37/40\n",
      "313/313 [==============================] - 17s 54ms/step - loss: 0.3367 - accuracy: 0.9527 - val_loss: 0.6848 - val_accuracy: 0.9025 - lr: 1.0000e-06\n",
      "Epoch 38/40\n",
      "313/313 [==============================] - 17s 54ms/step - loss: 0.3361 - accuracy: 0.9535 - val_loss: 0.6849 - val_accuracy: 0.9031 - lr: 1.0000e-06\n",
      "Epoch 39/40\n",
      "313/313 [==============================] - 17s 54ms/step - loss: 0.3371 - accuracy: 0.9523 - val_loss: 0.6850 - val_accuracy: 0.9032 - lr: 1.0000e-06\n",
      "Epoch 40/40\n",
      "313/313 [==============================] - 17s 54ms/step - loss: 0.3356 - accuracy: 0.9547 - val_loss: 0.6846 - val_accuracy: 0.9035 - lr: 1.0000e-06\n"
     ]
    },
    {
     "data": {
      "text/plain": [
       "<tensorflow.python.keras.callbacks.History at 0x7f4810326e10>"
      ]
     },
     "execution_count": 3,
     "metadata": {},
     "output_type": "execute_result"
    }
   ],
   "source": [
    "from noisydata.solver import Solver\n",
    "from tensorflow.keras.callbacks import LearningRateScheduler, ReduceLROnPlateau\n",
    "\n",
    "def lr_scheduler(epoch):\n",
    "    new_lr = lr * (0.1 ** (epoch // 10))\n",
    "    return new_lr\n",
    "\n",
    "solver = Solver(model, data)\n",
    "solver.fit(epochs=40, batch_size=128, data_augmentation=True, lr_scheduler=lr_scheduler)"
   ]
  },
  {
   "cell_type": "code",
   "execution_count": 3,
   "metadata": {
    "collapsed": true,
    "jupyter": {
     "outputs_hidden": true
    }
   },
   "outputs": [
    {
     "name": "stdout",
     "output_type": "stream",
     "text": [
      "[2020-11-08 11:16:17 (function on_train_begin in file ../noisydata/callback.py at line 49)] Model         = PreActResNet32\n",
      "[2020-11-08 11:16:17 (function on_train_begin in file ../noisydata/callback.py at line 50)] Optimizer     = Adam\n",
      "[2020-11-08 11:16:17 (function on_train_begin in file ../noisydata/callback.py at line 51)] Loss function = LabelOptimLoss\n",
      "[2020-11-08 11:16:17 (function on_train_begin in file ../noisydata/callback.py at line 53)] Train / Val   = 40000 / 10000\n",
      "[2020-11-08 11:16:17 (function on_train_begin in file ../noisydata/callback.py at line 55)] Batch size    = 128\n",
      "[2020-11-08 11:16:41 (function on_epoch_end in file ../noisydata/callback.py at line 103)] Epoch 0, Loss : 1.5656, Accuracy : 0.474, Val Loss : 5.6935, Val Accuracy : 0.272, lr : 0.001000, Elapsed Time : 23.34 (sec)\n",
      "[2020-11-08 11:17:00 (function on_epoch_end in file ../noisydata/callback.py at line 103)] Epoch 1, Loss : 1.1031, Accuracy : 0.642, Val Loss : 1.4002, Val Accuracy : 0.617, lr : 0.001000, Elapsed Time : 19.05 (sec)\n",
      "[2020-11-08 11:17:19 (function on_epoch_end in file ../noisydata/callback.py at line 103)] Epoch 2, Loss : 0.9155, Accuracy : 0.708, Val Loss : 1.4844, Val Accuracy : 0.632, lr : 0.001000, Elapsed Time : 18.76 (sec)\n",
      "[2020-11-08 11:17:38 (function on_epoch_end in file ../noisydata/callback.py at line 103)] Epoch 3, Loss : 0.7797, Accuracy : 0.757, Val Loss : 1.1427, Val Accuracy : 0.690, lr : 0.001000, Elapsed Time : 19.12 (sec)\n",
      "[2020-11-08 11:17:57 (function on_epoch_end in file ../noisydata/callback.py at line 103)] Epoch 4, Loss : 0.6988, Accuracy : 0.783, Val Loss : 1.0062, Val Accuracy : 0.738, lr : 0.001000, Elapsed Time : 19.05 (sec)\n",
      "[2020-11-08 11:18:16 (function on_epoch_end in file ../noisydata/callback.py at line 103)] Epoch 5, Loss : 0.6287, Accuracy : 0.809, Val Loss : 0.8794, Val Accuracy : 0.763, lr : 0.001000, Elapsed Time : 19.02 (sec)\n",
      "[2020-11-08 11:18:35 (function on_epoch_end in file ../noisydata/callback.py at line 103)] Epoch 6, Loss : 0.5777, Accuracy : 0.826, Val Loss : 1.0039, Val Accuracy : 0.749, lr : 0.001000, Elapsed Time : 18.62 (sec)\n",
      "[2020-11-08 11:18:54 (function on_epoch_end in file ../noisydata/callback.py at line 103)] Epoch 7, Loss : 0.5415, Accuracy : 0.838, Val Loss : 1.0373, Val Accuracy : 0.738, lr : 0.001000, Elapsed Time : 18.63 (sec)\n",
      "[2020-11-08 11:19:12 (function on_epoch_end in file ../noisydata/callback.py at line 103)] Epoch 8, Loss : 0.5019, Accuracy : 0.851, Val Loss : 1.0023, Val Accuracy : 0.761, lr : 0.001000, Elapsed Time : 18.58 (sec)\n",
      "[2020-11-08 11:19:31 (function on_epoch_end in file ../noisydata/callback.py at line 103)] Epoch 9, Loss : 0.4707, Accuracy : 0.861, Val Loss : 0.7435, Val Accuracy : 0.805, lr : 0.001000, Elapsed Time : 19.00 (sec)\n",
      "[2020-11-08 11:19:50 (function on_epoch_end in file ../noisydata/callback.py at line 103)] Epoch 10, Loss : 0.3620, Accuracy : 0.899, Val Loss : 0.4646, Val Accuracy : 0.870, lr : 0.000100, Elapsed Time : 19.06 (sec)\n",
      "[2020-11-08 11:20:09 (function on_epoch_end in file ../noisydata/callback.py at line 103)] Epoch 11, Loss : 0.3337, Accuracy : 0.908, Val Loss : 0.4652, Val Accuracy : 0.872, lr : 0.000100, Elapsed Time : 18.90 (sec)\n",
      "[2020-11-08 11:20:28 (function on_epoch_end in file ../noisydata/callback.py at line 103)] Epoch 12, Loss : 0.3167, Accuracy : 0.912, Val Loss : 0.4542, Val Accuracy : 0.877, lr : 0.000100, Elapsed Time : 19.08 (sec)\n",
      "[2020-11-08 11:20:47 (function on_epoch_end in file ../noisydata/callback.py at line 103)] Epoch 13, Loss : 0.3066, Accuracy : 0.916, Val Loss : 0.4632, Val Accuracy : 0.877, lr : 0.000100, Elapsed Time : 18.66 (sec)\n",
      "[2020-11-08 11:21:06 (function on_epoch_end in file ../noisydata/callback.py at line 103)] Epoch 14, Loss : 0.2940, Accuracy : 0.921, Val Loss : 0.4692, Val Accuracy : 0.875, lr : 0.000100, Elapsed Time : 18.61 (sec)\n",
      "[2020-11-08 11:21:24 (function on_epoch_end in file ../noisydata/callback.py at line 103)] Epoch 15, Loss : 0.2860, Accuracy : 0.922, Val Loss : 0.4685, Val Accuracy : 0.878, lr : 0.000100, Elapsed Time : 18.85 (sec)\n",
      "[2020-11-08 11:21:43 (function on_epoch_end in file ../noisydata/callback.py at line 103)] Epoch 16, Loss : 0.2838, Accuracy : 0.924, Val Loss : 0.4720, Val Accuracy : 0.875, lr : 0.000100, Elapsed Time : 18.63 (sec)\n",
      "[2020-11-08 11:22:02 (function on_epoch_end in file ../noisydata/callback.py at line 103)] Epoch 17, Loss : 0.2673, Accuracy : 0.928, Val Loss : 0.4676, Val Accuracy : 0.880, lr : 0.000100, Elapsed Time : 18.90 (sec)\n",
      "[2020-11-08 11:22:21 (function on_epoch_end in file ../noisydata/callback.py at line 103)] Epoch 18, Loss : 0.2584, Accuracy : 0.933, Val Loss : 0.4447, Val Accuracy : 0.884, lr : 0.000100, Elapsed Time : 19.08 (sec)\n",
      "[2020-11-08 11:22:40 (function on_epoch_end in file ../noisydata/callback.py at line 103)] Epoch 19, Loss : 0.2574, Accuracy : 0.933, Val Loss : 0.4575, Val Accuracy : 0.883, lr : 0.000100, Elapsed Time : 18.70 (sec)\n",
      "[2020-11-08 11:22:59 (function on_epoch_end in file ../noisydata/callback.py at line 103)] Epoch 20, Loss : 0.2426, Accuracy : 0.939, Val Loss : 0.4407, Val Accuracy : 0.887, lr : 0.000010, Elapsed Time : 18.99 (sec)\n",
      "[2020-11-08 11:23:18 (function on_epoch_end in file ../noisydata/callback.py at line 103)] Epoch 21, Loss : 0.2385, Accuracy : 0.939, Val Loss : 0.4392, Val Accuracy : 0.887, lr : 0.000010, Elapsed Time : 18.80 (sec)\n",
      "[2020-11-08 11:23:37 (function on_epoch_end in file ../noisydata/callback.py at line 103)] Epoch 22, Loss : 0.2327, Accuracy : 0.941, Val Loss : 0.4374, Val Accuracy : 0.887, lr : 0.000010, Elapsed Time : 19.02 (sec)\n",
      "[2020-11-08 11:23:55 (function on_epoch_end in file ../noisydata/callback.py at line 103)] Epoch 23, Loss : 0.2294, Accuracy : 0.943, Val Loss : 0.4393, Val Accuracy : 0.887, lr : 0.000010, Elapsed Time : 18.70 (sec)\n",
      "[2020-11-08 11:24:14 (function on_epoch_end in file ../noisydata/callback.py at line 103)] Epoch 24, Loss : 0.2335, Accuracy : 0.941, Val Loss : 0.4389, Val Accuracy : 0.888, lr : 0.000010, Elapsed Time : 18.77 (sec)\n",
      "[2020-11-08 11:24:33 (function on_epoch_end in file ../noisydata/callback.py at line 103)] Epoch 25, Loss : 0.2314, Accuracy : 0.941, Val Loss : 0.4406, Val Accuracy : 0.888, lr : 0.000010, Elapsed Time : 18.85 (sec)\n",
      "[2020-11-08 11:24:52 (function on_epoch_end in file ../noisydata/callback.py at line 103)] Epoch 26, Loss : 0.2318, Accuracy : 0.941, Val Loss : 0.4380, Val Accuracy : 0.888, lr : 0.000010, Elapsed Time : 18.60 (sec)\n",
      "[2020-11-08 11:25:10 (function on_epoch_end in file ../noisydata/callback.py at line 103)] Epoch 27, Loss : 0.2255, Accuracy : 0.943, Val Loss : 0.4399, Val Accuracy : 0.887, lr : 0.000010, Elapsed Time : 18.68 (sec)\n",
      "[2020-11-08 11:25:29 (function on_epoch_end in file ../noisydata/callback.py at line 103)] Epoch 28, Loss : 0.2263, Accuracy : 0.943, Val Loss : 0.4382, Val Accuracy : 0.889, lr : 0.000010, Elapsed Time : 18.81 (sec)\n",
      "[2020-11-08 11:25:48 (function on_epoch_end in file ../noisydata/callback.py at line 103)] Epoch 29, Loss : 0.2234, Accuracy : 0.945, Val Loss : 0.4382, Val Accuracy : 0.887, lr : 0.000010, Elapsed Time : 18.82 (sec)\n",
      "[2020-11-08 11:26:07 (function on_epoch_end in file ../noisydata/callback.py at line 103)] Epoch 30, Loss : 0.2270, Accuracy : 0.942, Val Loss : 0.4381, Val Accuracy : 0.887, lr : 0.000001, Elapsed Time : 18.81 (sec)\n",
      "[2020-11-08 11:26:26 (function on_epoch_end in file ../noisydata/callback.py at line 103)] Epoch 31, Loss : 0.2287, Accuracy : 0.943, Val Loss : 0.4385, Val Accuracy : 0.887, lr : 0.000001, Elapsed Time : 18.67 (sec)\n",
      "[2020-11-08 11:26:44 (function on_epoch_end in file ../noisydata/callback.py at line 103)] Epoch 32, Loss : 0.2286, Accuracy : 0.942, Val Loss : 0.4389, Val Accuracy : 0.887, lr : 0.000001, Elapsed Time : 18.63 (sec)\n",
      "[2020-11-08 11:27:03 (function on_epoch_end in file ../noisydata/callback.py at line 103)] Epoch 33, Loss : 0.2229, Accuracy : 0.944, Val Loss : 0.4380, Val Accuracy : 0.887, lr : 0.000001, Elapsed Time : 18.67 (sec)\n",
      "[2020-11-08 11:27:22 (function on_epoch_end in file ../noisydata/callback.py at line 103)] Epoch 34, Loss : 0.2283, Accuracy : 0.942, Val Loss : 0.4383, Val Accuracy : 0.887, lr : 0.000001, Elapsed Time : 18.72 (sec)\n",
      "[2020-11-08 11:27:40 (function on_epoch_end in file ../noisydata/callback.py at line 103)] Epoch 35, Loss : 0.2250, Accuracy : 0.945, Val Loss : 0.4380, Val Accuracy : 0.888, lr : 0.000001, Elapsed Time : 18.71 (sec)\n",
      "[2020-11-08 11:27:59 (function on_epoch_end in file ../noisydata/callback.py at line 103)] Epoch 36, Loss : 0.2285, Accuracy : 0.943, Val Loss : 0.4382, Val Accuracy : 0.888, lr : 0.000001, Elapsed Time : 18.78 (sec)\n",
      "[2020-11-08 11:28:18 (function on_epoch_end in file ../noisydata/callback.py at line 103)] Epoch 37, Loss : 0.2261, Accuracy : 0.943, Val Loss : 0.4381, Val Accuracy : 0.888, lr : 0.000001, Elapsed Time : 18.67 (sec)\n",
      "[2020-11-08 11:28:37 (function on_epoch_end in file ../noisydata/callback.py at line 103)] Epoch 38, Loss : 0.2219, Accuracy : 0.943, Val Loss : 0.4387, Val Accuracy : 0.888, lr : 0.000001, Elapsed Time : 18.71 (sec)\n",
      "[2020-11-08 11:28:55 (function on_epoch_end in file ../noisydata/callback.py at line 103)] Epoch 39, Loss : 0.2211, Accuracy : 0.945, Val Loss : 0.4388, Val Accuracy : 0.888, lr : 0.000001, Elapsed Time : 18.79 (sec)\n"
     ]
    }
   ],
   "source": [
    "from noisydata.solver import Solver\n",
    "from noisydata.utility import run_debug\n",
    "from tensorflow.keras.callbacks import LearningRateScheduler, ReduceLROnPlateau\n",
    "import matplotlib.pyplot as plt\n",
    "\n",
    "def lr_scheduler(epoch):\n",
    "    new_lr = lr * (0.1 ** (epoch // 10))\n",
    "    return new_lr\n",
    "\n",
    "solver = Solver(model, data, loss_fun, opt)\n",
    "solver.train(epochs=40, batch_size=128, lr_scheduler=lr_scheduler)"
   ]
  },
  {
   "cell_type": "code",
   "execution_count": 4,
   "metadata": {},
   "outputs": [
    {
     "name": "stdout",
     "output_type": "stream",
     "text": [
      "313/313 [==============================] - 2s 6ms/step - loss: 1.1914 - accuracy: 0.8867\n",
      "test data loss = 1.19, acc = 0.8867\n"
     ]
    }
   ],
   "source": [
    "solver.test()"
   ]
  },
  {
   "cell_type": "code",
   "execution_count": null,
   "metadata": {},
   "outputs": [],
   "source": []
  }
 ],
 "metadata": {
  "kernelspec": {
   "display_name": "Python 3",
   "language": "python",
   "name": "python3"
  },
  "language_info": {
   "codemirror_mode": {
    "name": "ipython",
    "version": 3
   },
   "file_extension": ".py",
   "mimetype": "text/x-python",
   "name": "python",
   "nbconvert_exporter": "python",
   "pygments_lexer": "ipython3",
   "version": "3.6.9"
  }
 },
 "nbformat": 4,
 "nbformat_minor": 4
}
